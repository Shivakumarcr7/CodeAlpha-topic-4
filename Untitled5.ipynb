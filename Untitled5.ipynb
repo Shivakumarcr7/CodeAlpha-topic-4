{
  "nbformat": 4,
  "nbformat_minor": 0,
  "metadata": {
    "colab": {
      "provenance": []
    },
    "kernelspec": {
      "name": "python3",
      "display_name": "Python 3"
    },
    "language_info": {
      "name": "python"
    }
  },
  "cells": [
    {
      "cell_type": "markdown",
      "source": [
        "# ***Object Tracking***\n"
      ],
      "metadata": {
        "id": "mAqWmejpOwT5"
      }
    },
    {
      "cell_type": "code",
      "source": [
        "!pip install ultralytics opencv-python pandas\n"
      ],
      "metadata": {
        "colab": {
          "base_uri": "https://localhost:8080/"
        },
        "id": "H1Mn8x61O2mB",
        "outputId": "22a673ed-47f5-4c6f-e1de-d76c45e21f86"
      },
      "execution_count": 13,
      "outputs": [
        {
          "output_type": "stream",
          "name": "stdout",
          "text": [
            "Requirement already satisfied: ultralytics in /usr/local/lib/python3.12/dist-packages (8.3.182)\n",
            "Requirement already satisfied: opencv-python in /usr/local/lib/python3.12/dist-packages (4.12.0.88)\n",
            "Requirement already satisfied: pandas in /usr/local/lib/python3.12/dist-packages (2.2.2)\n",
            "Requirement already satisfied: numpy>=1.23.0 in /usr/local/lib/python3.12/dist-packages (from ultralytics) (2.0.2)\n",
            "Requirement already satisfied: matplotlib>=3.3.0 in /usr/local/lib/python3.12/dist-packages (from ultralytics) (3.10.0)\n",
            "Requirement already satisfied: pillow>=7.1.2 in /usr/local/lib/python3.12/dist-packages (from ultralytics) (11.3.0)\n",
            "Requirement already satisfied: pyyaml>=5.3.1 in /usr/local/lib/python3.12/dist-packages (from ultralytics) (6.0.2)\n",
            "Requirement already satisfied: requests>=2.23.0 in /usr/local/lib/python3.12/dist-packages (from ultralytics) (2.32.4)\n",
            "Requirement already satisfied: scipy>=1.4.1 in /usr/local/lib/python3.12/dist-packages (from ultralytics) (1.16.1)\n",
            "Requirement already satisfied: torch>=1.8.0 in /usr/local/lib/python3.12/dist-packages (from ultralytics) (2.8.0+cu126)\n",
            "Requirement already satisfied: torchvision>=0.9.0 in /usr/local/lib/python3.12/dist-packages (from ultralytics) (0.23.0+cu126)\n",
            "Requirement already satisfied: tqdm>=4.64.0 in /usr/local/lib/python3.12/dist-packages (from ultralytics) (4.67.1)\n",
            "Requirement already satisfied: psutil in /usr/local/lib/python3.12/dist-packages (from ultralytics) (5.9.5)\n",
            "Requirement already satisfied: py-cpuinfo in /usr/local/lib/python3.12/dist-packages (from ultralytics) (9.0.0)\n",
            "Requirement already satisfied: ultralytics-thop>=2.0.0 in /usr/local/lib/python3.12/dist-packages (from ultralytics) (2.0.16)\n",
            "Requirement already satisfied: python-dateutil>=2.8.2 in /usr/local/lib/python3.12/dist-packages (from pandas) (2.9.0.post0)\n",
            "Requirement already satisfied: pytz>=2020.1 in /usr/local/lib/python3.12/dist-packages (from pandas) (2025.2)\n",
            "Requirement already satisfied: tzdata>=2022.7 in /usr/local/lib/python3.12/dist-packages (from pandas) (2025.2)\n",
            "Requirement already satisfied: contourpy>=1.0.1 in /usr/local/lib/python3.12/dist-packages (from matplotlib>=3.3.0->ultralytics) (1.3.3)\n",
            "Requirement already satisfied: cycler>=0.10 in /usr/local/lib/python3.12/dist-packages (from matplotlib>=3.3.0->ultralytics) (0.12.1)\n",
            "Requirement already satisfied: fonttools>=4.22.0 in /usr/local/lib/python3.12/dist-packages (from matplotlib>=3.3.0->ultralytics) (4.59.1)\n",
            "Requirement already satisfied: kiwisolver>=1.3.1 in /usr/local/lib/python3.12/dist-packages (from matplotlib>=3.3.0->ultralytics) (1.4.9)\n",
            "Requirement already satisfied: packaging>=20.0 in /usr/local/lib/python3.12/dist-packages (from matplotlib>=3.3.0->ultralytics) (25.0)\n",
            "Requirement already satisfied: pyparsing>=2.3.1 in /usr/local/lib/python3.12/dist-packages (from matplotlib>=3.3.0->ultralytics) (3.2.3)\n",
            "Requirement already satisfied: six>=1.5 in /usr/local/lib/python3.12/dist-packages (from python-dateutil>=2.8.2->pandas) (1.17.0)\n",
            "Requirement already satisfied: charset_normalizer<4,>=2 in /usr/local/lib/python3.12/dist-packages (from requests>=2.23.0->ultralytics) (3.4.3)\n",
            "Requirement already satisfied: idna<4,>=2.5 in /usr/local/lib/python3.12/dist-packages (from requests>=2.23.0->ultralytics) (3.10)\n",
            "Requirement already satisfied: urllib3<3,>=1.21.1 in /usr/local/lib/python3.12/dist-packages (from requests>=2.23.0->ultralytics) (2.5.0)\n",
            "Requirement already satisfied: certifi>=2017.4.17 in /usr/local/lib/python3.12/dist-packages (from requests>=2.23.0->ultralytics) (2025.8.3)\n",
            "Requirement already satisfied: filelock in /usr/local/lib/python3.12/dist-packages (from torch>=1.8.0->ultralytics) (3.19.1)\n",
            "Requirement already satisfied: typing-extensions>=4.10.0 in /usr/local/lib/python3.12/dist-packages (from torch>=1.8.0->ultralytics) (4.14.1)\n",
            "Requirement already satisfied: setuptools in /usr/local/lib/python3.12/dist-packages (from torch>=1.8.0->ultralytics) (75.2.0)\n",
            "Requirement already satisfied: sympy>=1.13.3 in /usr/local/lib/python3.12/dist-packages (from torch>=1.8.0->ultralytics) (1.13.3)\n",
            "Requirement already satisfied: networkx in /usr/local/lib/python3.12/dist-packages (from torch>=1.8.0->ultralytics) (3.5)\n",
            "Requirement already satisfied: jinja2 in /usr/local/lib/python3.12/dist-packages (from torch>=1.8.0->ultralytics) (3.1.6)\n",
            "Requirement already satisfied: fsspec in /usr/local/lib/python3.12/dist-packages (from torch>=1.8.0->ultralytics) (2025.3.0)\n",
            "Requirement already satisfied: nvidia-cuda-nvrtc-cu12==12.6.77 in /usr/local/lib/python3.12/dist-packages (from torch>=1.8.0->ultralytics) (12.6.77)\n",
            "Requirement already satisfied: nvidia-cuda-runtime-cu12==12.6.77 in /usr/local/lib/python3.12/dist-packages (from torch>=1.8.0->ultralytics) (12.6.77)\n",
            "Requirement already satisfied: nvidia-cuda-cupti-cu12==12.6.80 in /usr/local/lib/python3.12/dist-packages (from torch>=1.8.0->ultralytics) (12.6.80)\n",
            "Requirement already satisfied: nvidia-cudnn-cu12==9.10.2.21 in /usr/local/lib/python3.12/dist-packages (from torch>=1.8.0->ultralytics) (9.10.2.21)\n",
            "Requirement already satisfied: nvidia-cublas-cu12==12.6.4.1 in /usr/local/lib/python3.12/dist-packages (from torch>=1.8.0->ultralytics) (12.6.4.1)\n",
            "Requirement already satisfied: nvidia-cufft-cu12==11.3.0.4 in /usr/local/lib/python3.12/dist-packages (from torch>=1.8.0->ultralytics) (11.3.0.4)\n",
            "Requirement already satisfied: nvidia-curand-cu12==10.3.7.77 in /usr/local/lib/python3.12/dist-packages (from torch>=1.8.0->ultralytics) (10.3.7.77)\n",
            "Requirement already satisfied: nvidia-cusolver-cu12==11.7.1.2 in /usr/local/lib/python3.12/dist-packages (from torch>=1.8.0->ultralytics) (11.7.1.2)\n",
            "Requirement already satisfied: nvidia-cusparse-cu12==12.5.4.2 in /usr/local/lib/python3.12/dist-packages (from torch>=1.8.0->ultralytics) (12.5.4.2)\n",
            "Requirement already satisfied: nvidia-cusparselt-cu12==0.7.1 in /usr/local/lib/python3.12/dist-packages (from torch>=1.8.0->ultralytics) (0.7.1)\n",
            "Requirement already satisfied: nvidia-nccl-cu12==2.27.3 in /usr/local/lib/python3.12/dist-packages (from torch>=1.8.0->ultralytics) (2.27.3)\n",
            "Requirement already satisfied: nvidia-nvtx-cu12==12.6.77 in /usr/local/lib/python3.12/dist-packages (from torch>=1.8.0->ultralytics) (12.6.77)\n",
            "Requirement already satisfied: nvidia-nvjitlink-cu12==12.6.85 in /usr/local/lib/python3.12/dist-packages (from torch>=1.8.0->ultralytics) (12.6.85)\n",
            "Requirement already satisfied: nvidia-cufile-cu12==1.11.1.6 in /usr/local/lib/python3.12/dist-packages (from torch>=1.8.0->ultralytics) (1.11.1.6)\n",
            "Requirement already satisfied: triton==3.4.0 in /usr/local/lib/python3.12/dist-packages (from torch>=1.8.0->ultralytics) (3.4.0)\n",
            "Requirement already satisfied: mpmath<1.4,>=1.1.0 in /usr/local/lib/python3.12/dist-packages (from sympy>=1.13.3->torch>=1.8.0->ultralytics) (1.3.0)\n",
            "Requirement already satisfied: MarkupSafe>=2.0 in /usr/local/lib/python3.12/dist-packages (from jinja2->torch>=1.8.0->ultralytics) (3.0.2)\n"
          ]
        }
      ]
    },
    {
      "cell_type": "code",
      "source": [],
      "metadata": {
        "id": "z_YhzdcLPQrs"
      },
      "execution_count": null,
      "outputs": []
    },
    {
      "cell_type": "markdown",
      "source": [
        "#***Import Libraries & Upload Video***"
      ],
      "metadata": {
        "id": "0lBzzNvLPTEy"
      }
    },
    {
      "cell_type": "code",
      "source": [
        "from ultralytics import YOLO\n",
        "import cv2, os, shutil, glob\n",
        "from collections import Counter\n",
        "import pandas as pd\n",
        "from google.colab import files\n",
        "\n",
        "uploaded = files.upload()\n",
        "video_name = list(uploaded.keys())[0]\n"
      ],
      "metadata": {
        "colab": {
          "base_uri": "https://localhost:8080/",
          "height": 73
        },
        "id": "xgf5-4VWPZ4S",
        "outputId": "1d1a83ef-c521-45c0-a277-783861b23c56"
      },
      "execution_count": 14,
      "outputs": [
        {
          "output_type": "display_data",
          "data": {
            "text/plain": [
              "<IPython.core.display.HTML object>"
            ],
            "text/html": [
              "\n",
              "     <input type=\"file\" id=\"files-4bb85ab3-e613-4c40-a692-d8dcd6d95032\" name=\"files[]\" multiple disabled\n",
              "        style=\"border:none\" />\n",
              "     <output id=\"result-4bb85ab3-e613-4c40-a692-d8dcd6d95032\">\n",
              "      Upload widget is only available when the cell has been executed in the\n",
              "      current browser session. Please rerun this cell to enable.\n",
              "      </output>\n",
              "      <script>// Copyright 2017 Google LLC\n",
              "//\n",
              "// Licensed under the Apache License, Version 2.0 (the \"License\");\n",
              "// you may not use this file except in compliance with the License.\n",
              "// You may obtain a copy of the License at\n",
              "//\n",
              "//      http://www.apache.org/licenses/LICENSE-2.0\n",
              "//\n",
              "// Unless required by applicable law or agreed to in writing, software\n",
              "// distributed under the License is distributed on an \"AS IS\" BASIS,\n",
              "// WITHOUT WARRANTIES OR CONDITIONS OF ANY KIND, either express or implied.\n",
              "// See the License for the specific language governing permissions and\n",
              "// limitations under the License.\n",
              "\n",
              "/**\n",
              " * @fileoverview Helpers for google.colab Python module.\n",
              " */\n",
              "(function(scope) {\n",
              "function span(text, styleAttributes = {}) {\n",
              "  const element = document.createElement('span');\n",
              "  element.textContent = text;\n",
              "  for (const key of Object.keys(styleAttributes)) {\n",
              "    element.style[key] = styleAttributes[key];\n",
              "  }\n",
              "  return element;\n",
              "}\n",
              "\n",
              "// Max number of bytes which will be uploaded at a time.\n",
              "const MAX_PAYLOAD_SIZE = 100 * 1024;\n",
              "\n",
              "function _uploadFiles(inputId, outputId) {\n",
              "  const steps = uploadFilesStep(inputId, outputId);\n",
              "  const outputElement = document.getElementById(outputId);\n",
              "  // Cache steps on the outputElement to make it available for the next call\n",
              "  // to uploadFilesContinue from Python.\n",
              "  outputElement.steps = steps;\n",
              "\n",
              "  return _uploadFilesContinue(outputId);\n",
              "}\n",
              "\n",
              "// This is roughly an async generator (not supported in the browser yet),\n",
              "// where there are multiple asynchronous steps and the Python side is going\n",
              "// to poll for completion of each step.\n",
              "// This uses a Promise to block the python side on completion of each step,\n",
              "// then passes the result of the previous step as the input to the next step.\n",
              "function _uploadFilesContinue(outputId) {\n",
              "  const outputElement = document.getElementById(outputId);\n",
              "  const steps = outputElement.steps;\n",
              "\n",
              "  const next = steps.next(outputElement.lastPromiseValue);\n",
              "  return Promise.resolve(next.value.promise).then((value) => {\n",
              "    // Cache the last promise value to make it available to the next\n",
              "    // step of the generator.\n",
              "    outputElement.lastPromiseValue = value;\n",
              "    return next.value.response;\n",
              "  });\n",
              "}\n",
              "\n",
              "/**\n",
              " * Generator function which is called between each async step of the upload\n",
              " * process.\n",
              " * @param {string} inputId Element ID of the input file picker element.\n",
              " * @param {string} outputId Element ID of the output display.\n",
              " * @return {!Iterable<!Object>} Iterable of next steps.\n",
              " */\n",
              "function* uploadFilesStep(inputId, outputId) {\n",
              "  const inputElement = document.getElementById(inputId);\n",
              "  inputElement.disabled = false;\n",
              "\n",
              "  const outputElement = document.getElementById(outputId);\n",
              "  outputElement.innerHTML = '';\n",
              "\n",
              "  const pickedPromise = new Promise((resolve) => {\n",
              "    inputElement.addEventListener('change', (e) => {\n",
              "      resolve(e.target.files);\n",
              "    });\n",
              "  });\n",
              "\n",
              "  const cancel = document.createElement('button');\n",
              "  inputElement.parentElement.appendChild(cancel);\n",
              "  cancel.textContent = 'Cancel upload';\n",
              "  const cancelPromise = new Promise((resolve) => {\n",
              "    cancel.onclick = () => {\n",
              "      resolve(null);\n",
              "    };\n",
              "  });\n",
              "\n",
              "  // Wait for the user to pick the files.\n",
              "  const files = yield {\n",
              "    promise: Promise.race([pickedPromise, cancelPromise]),\n",
              "    response: {\n",
              "      action: 'starting',\n",
              "    }\n",
              "  };\n",
              "\n",
              "  cancel.remove();\n",
              "\n",
              "  // Disable the input element since further picks are not allowed.\n",
              "  inputElement.disabled = true;\n",
              "\n",
              "  if (!files) {\n",
              "    return {\n",
              "      response: {\n",
              "        action: 'complete',\n",
              "      }\n",
              "    };\n",
              "  }\n",
              "\n",
              "  for (const file of files) {\n",
              "    const li = document.createElement('li');\n",
              "    li.append(span(file.name, {fontWeight: 'bold'}));\n",
              "    li.append(span(\n",
              "        `(${file.type || 'n/a'}) - ${file.size} bytes, ` +\n",
              "        `last modified: ${\n",
              "            file.lastModifiedDate ? file.lastModifiedDate.toLocaleDateString() :\n",
              "                                    'n/a'} - `));\n",
              "    const percent = span('0% done');\n",
              "    li.appendChild(percent);\n",
              "\n",
              "    outputElement.appendChild(li);\n",
              "\n",
              "    const fileDataPromise = new Promise((resolve) => {\n",
              "      const reader = new FileReader();\n",
              "      reader.onload = (e) => {\n",
              "        resolve(e.target.result);\n",
              "      };\n",
              "      reader.readAsArrayBuffer(file);\n",
              "    });\n",
              "    // Wait for the data to be ready.\n",
              "    let fileData = yield {\n",
              "      promise: fileDataPromise,\n",
              "      response: {\n",
              "        action: 'continue',\n",
              "      }\n",
              "    };\n",
              "\n",
              "    // Use a chunked sending to avoid message size limits. See b/62115660.\n",
              "    let position = 0;\n",
              "    do {\n",
              "      const length = Math.min(fileData.byteLength - position, MAX_PAYLOAD_SIZE);\n",
              "      const chunk = new Uint8Array(fileData, position, length);\n",
              "      position += length;\n",
              "\n",
              "      const base64 = btoa(String.fromCharCode.apply(null, chunk));\n",
              "      yield {\n",
              "        response: {\n",
              "          action: 'append',\n",
              "          file: file.name,\n",
              "          data: base64,\n",
              "        },\n",
              "      };\n",
              "\n",
              "      let percentDone = fileData.byteLength === 0 ?\n",
              "          100 :\n",
              "          Math.round((position / fileData.byteLength) * 100);\n",
              "      percent.textContent = `${percentDone}% done`;\n",
              "\n",
              "    } while (position < fileData.byteLength);\n",
              "  }\n",
              "\n",
              "  // All done.\n",
              "  yield {\n",
              "    response: {\n",
              "      action: 'complete',\n",
              "    }\n",
              "  };\n",
              "}\n",
              "\n",
              "scope.google = scope.google || {};\n",
              "scope.google.colab = scope.google.colab || {};\n",
              "scope.google.colab._files = {\n",
              "  _uploadFiles,\n",
              "  _uploadFilesContinue,\n",
              "};\n",
              "})(self);\n",
              "</script> "
            ]
          },
          "metadata": {}
        },
        {
          "output_type": "stream",
          "name": "stdout",
          "text": [
            "Saving WhatsApp Video 2025-08-21 at 2.05.45 AM.mp4 to WhatsApp Video 2025-08-21 at 2.05.45 AM (1).mp4\n"
          ]
        }
      ]
    },
    {
      "cell_type": "code",
      "source": [],
      "metadata": {
        "id": "CRSk5K4sPbt9"
      },
      "execution_count": null,
      "outputs": []
    },
    {
      "cell_type": "markdown",
      "source": [
        "#***Load Model & Run Tracking***"
      ],
      "metadata": {
        "id": "BcoBTX4zPf3N"
      }
    },
    {
      "cell_type": "code",
      "source": [
        "model = YOLO(\"yolov8n.pt\")\n",
        "\n",
        "results = model.track(\n",
        "    source=video_name,\n",
        "    tracker=\"bytetrack.yaml\",\n",
        "    conf=0.5,\n",
        "    save=True,\n",
        "    project=\".\",\n",
        "    name=\"tracked\",\n",
        "    exist_ok=True\n",
        ")\n"
      ],
      "metadata": {
        "colab": {
          "base_uri": "https://localhost:8080/"
        },
        "id": "JkYvbZUkPlZH",
        "outputId": "33977ae2-07d9-4e30-f426-956d30c18354"
      },
      "execution_count": 15,
      "outputs": [
        {
          "output_type": "stream",
          "name": "stdout",
          "text": [
            "\n",
            "WARNING ⚠️ \n",
            "inference results will accumulate in RAM unless `stream=True` is passed, causing potential out-of-memory\n",
            "errors for large sources or long-running streams and videos. See https://docs.ultralytics.com/modes/predict/ for help.\n",
            "\n",
            "Example:\n",
            "    results = model(source=..., stream=True)  # generator of Results objects\n",
            "    for r in results:\n",
            "        boxes = r.boxes  # Boxes object for bbox outputs\n",
            "        masks = r.masks  # Masks object for segment masks outputs\n",
            "        probs = r.probs  # Class probabilities for classification outputs\n",
            "\n",
            "video 1/1 (frame 1/196) /content/WhatsApp Video 2025-08-21 at 2.05.45 AM (1).mp4: 640x384 1 bed, 153.5ms\n",
            "video 1/1 (frame 2/196) /content/WhatsApp Video 2025-08-21 at 2.05.45 AM (1).mp4: 640x384 1 bed, 134.7ms\n",
            "video 1/1 (frame 3/196) /content/WhatsApp Video 2025-08-21 at 2.05.45 AM (1).mp4: 640x384 1 bed, 131.2ms\n",
            "video 1/1 (frame 4/196) /content/WhatsApp Video 2025-08-21 at 2.05.45 AM (1).mp4: 640x384 1 bed, 143.8ms\n",
            "video 1/1 (frame 5/196) /content/WhatsApp Video 2025-08-21 at 2.05.45 AM (1).mp4: 640x384 1 bed, 133.8ms\n",
            "video 1/1 (frame 6/196) /content/WhatsApp Video 2025-08-21 at 2.05.45 AM (1).mp4: 640x384 1 bed, 135.3ms\n",
            "video 1/1 (frame 7/196) /content/WhatsApp Video 2025-08-21 at 2.05.45 AM (1).mp4: 640x384 1 bed, 155.9ms\n",
            "video 1/1 (frame 8/196) /content/WhatsApp Video 2025-08-21 at 2.05.45 AM (1).mp4: 640x384 1 bed, 152.2ms\n",
            "video 1/1 (frame 9/196) /content/WhatsApp Video 2025-08-21 at 2.05.45 AM (1).mp4: 640x384 1 bed, 142.0ms\n",
            "video 1/1 (frame 10/196) /content/WhatsApp Video 2025-08-21 at 2.05.45 AM (1).mp4: 640x384 1 bed, 160.7ms\n",
            "video 1/1 (frame 11/196) /content/WhatsApp Video 2025-08-21 at 2.05.45 AM (1).mp4: 640x384 1 bed, 147.9ms\n",
            "video 1/1 (frame 12/196) /content/WhatsApp Video 2025-08-21 at 2.05.45 AM (1).mp4: 640x384 1 bed, 143.4ms\n",
            "video 1/1 (frame 13/196) /content/WhatsApp Video 2025-08-21 at 2.05.45 AM (1).mp4: 640x384 1 bed, 144.3ms\n",
            "video 1/1 (frame 14/196) /content/WhatsApp Video 2025-08-21 at 2.05.45 AM (1).mp4: 640x384 1 bed, 151.5ms\n",
            "video 1/1 (frame 15/196) /content/WhatsApp Video 2025-08-21 at 2.05.45 AM (1).mp4: 640x384 1 bed, 147.1ms\n",
            "video 1/1 (frame 16/196) /content/WhatsApp Video 2025-08-21 at 2.05.45 AM (1).mp4: 640x384 1 bed, 156.8ms\n",
            "video 1/1 (frame 17/196) /content/WhatsApp Video 2025-08-21 at 2.05.45 AM (1).mp4: 640x384 1 bed, 147.4ms\n",
            "video 1/1 (frame 18/196) /content/WhatsApp Video 2025-08-21 at 2.05.45 AM (1).mp4: 640x384 1 bed, 141.2ms\n",
            "video 1/1 (frame 19/196) /content/WhatsApp Video 2025-08-21 at 2.05.45 AM (1).mp4: 640x384 1 bed, 131.1ms\n",
            "video 1/1 (frame 20/196) /content/WhatsApp Video 2025-08-21 at 2.05.45 AM (1).mp4: 640x384 1 bed, 141.8ms\n",
            "video 1/1 (frame 21/196) /content/WhatsApp Video 2025-08-21 at 2.05.45 AM (1).mp4: 640x384 1 bed, 135.6ms\n",
            "video 1/1 (frame 22/196) /content/WhatsApp Video 2025-08-21 at 2.05.45 AM (1).mp4: 640x384 1 bed, 131.1ms\n",
            "video 1/1 (frame 23/196) /content/WhatsApp Video 2025-08-21 at 2.05.45 AM (1).mp4: 640x384 1 bed, 145.9ms\n",
            "video 1/1 (frame 24/196) /content/WhatsApp Video 2025-08-21 at 2.05.45 AM (1).mp4: 640x384 1 bed, 1 remote, 130.0ms\n",
            "video 1/1 (frame 25/196) /content/WhatsApp Video 2025-08-21 at 2.05.45 AM (1).mp4: 640x384 1 bed, 130.6ms\n",
            "video 1/1 (frame 26/196) /content/WhatsApp Video 2025-08-21 at 2.05.45 AM (1).mp4: 640x384 1 bed, 1 remote, 130.4ms\n",
            "video 1/1 (frame 27/196) /content/WhatsApp Video 2025-08-21 at 2.05.45 AM (1).mp4: 640x384 1 bed, 1 remote, 136.1ms\n",
            "video 1/1 (frame 28/196) /content/WhatsApp Video 2025-08-21 at 2.05.45 AM (1).mp4: 640x384 1 bed, 1 remote, 131.7ms\n",
            "video 1/1 (frame 29/196) /content/WhatsApp Video 2025-08-21 at 2.05.45 AM (1).mp4: 640x384 1 bed, 1 remote, 133.3ms\n",
            "video 1/1 (frame 30/196) /content/WhatsApp Video 2025-08-21 at 2.05.45 AM (1).mp4: 640x384 (no detections), 146.4ms\n",
            "video 1/1 (frame 31/196) /content/WhatsApp Video 2025-08-21 at 2.05.45 AM (1).mp4: 640x384 1 cell phone, 132.1ms\n",
            "video 1/1 (frame 32/196) /content/WhatsApp Video 2025-08-21 at 2.05.45 AM (1).mp4: 640x384 (no detections), 129.2ms\n",
            "video 1/1 (frame 33/196) /content/WhatsApp Video 2025-08-21 at 2.05.45 AM (1).mp4: 640x384 (no detections), 201.5ms\n",
            "video 1/1 (frame 34/196) /content/WhatsApp Video 2025-08-21 at 2.05.45 AM (1).mp4: 640x384 1 cell phone, 205.3ms\n",
            "video 1/1 (frame 35/196) /content/WhatsApp Video 2025-08-21 at 2.05.45 AM (1).mp4: 640x384 1 cell phone, 204.5ms\n",
            "video 1/1 (frame 36/196) /content/WhatsApp Video 2025-08-21 at 2.05.45 AM (1).mp4: 640x384 1 cell phone, 204.4ms\n",
            "video 1/1 (frame 37/196) /content/WhatsApp Video 2025-08-21 at 2.05.45 AM (1).mp4: 640x384 (no detections), 204.2ms\n",
            "video 1/1 (frame 38/196) /content/WhatsApp Video 2025-08-21 at 2.05.45 AM (1).mp4: 640x384 (no detections), 197.0ms\n",
            "video 1/1 (frame 39/196) /content/WhatsApp Video 2025-08-21 at 2.05.45 AM (1).mp4: 640x384 (no detections), 196.2ms\n",
            "video 1/1 (frame 40/196) /content/WhatsApp Video 2025-08-21 at 2.05.45 AM (1).mp4: 640x384 1 keyboard, 208.6ms\n",
            "video 1/1 (frame 41/196) /content/WhatsApp Video 2025-08-21 at 2.05.45 AM (1).mp4: 640x384 (no detections), 209.7ms\n",
            "video 1/1 (frame 42/196) /content/WhatsApp Video 2025-08-21 at 2.05.45 AM (1).mp4: 640x384 1 laptop, 210.4ms\n",
            "video 1/1 (frame 43/196) /content/WhatsApp Video 2025-08-21 at 2.05.45 AM (1).mp4: 640x384 1 laptop, 202.2ms\n",
            "video 1/1 (frame 44/196) /content/WhatsApp Video 2025-08-21 at 2.05.45 AM (1).mp4: 640x384 1 laptop, 167.7ms\n",
            "video 1/1 (frame 45/196) /content/WhatsApp Video 2025-08-21 at 2.05.45 AM (1).mp4: 640x384 1 bottle, 1 laptop, 143.1ms\n",
            "video 1/1 (frame 46/196) /content/WhatsApp Video 2025-08-21 at 2.05.45 AM (1).mp4: 640x384 1 bottle, 1 bed, 1 laptop, 1 mouse, 129.8ms\n",
            "video 1/1 (frame 47/196) /content/WhatsApp Video 2025-08-21 at 2.05.45 AM (1).mp4: 640x384 1 bottle, 1 bed, 1 laptop, 132.4ms\n",
            "video 1/1 (frame 48/196) /content/WhatsApp Video 2025-08-21 at 2.05.45 AM (1).mp4: 640x384 1 bed, 1 laptop, 129.3ms\n",
            "video 1/1 (frame 49/196) /content/WhatsApp Video 2025-08-21 at 2.05.45 AM (1).mp4: 640x384 1 bottle, 1 bed, 1 laptop, 128.3ms\n",
            "video 1/1 (frame 50/196) /content/WhatsApp Video 2025-08-21 at 2.05.45 AM (1).mp4: 640x384 1 bottle, 1 bed, 1 laptop, 129.0ms\n",
            "video 1/1 (frame 51/196) /content/WhatsApp Video 2025-08-21 at 2.05.45 AM (1).mp4: 640x384 1 bottle, 1 bed, 1 laptop, 136.1ms\n",
            "video 1/1 (frame 52/196) /content/WhatsApp Video 2025-08-21 at 2.05.45 AM (1).mp4: 640x384 1 bottle, 1 laptop, 1 mouse, 146.1ms\n",
            "video 1/1 (frame 53/196) /content/WhatsApp Video 2025-08-21 at 2.05.45 AM (1).mp4: 640x384 1 bottle, 1 bed, 1 laptop, 130.6ms\n",
            "video 1/1 (frame 54/196) /content/WhatsApp Video 2025-08-21 at 2.05.45 AM (1).mp4: 640x384 1 bottle, 1 laptop, 133.3ms\n",
            "video 1/1 (frame 55/196) /content/WhatsApp Video 2025-08-21 at 2.05.45 AM (1).mp4: 640x384 1 bed, 1 laptop, 129.4ms\n",
            "video 1/1 (frame 56/196) /content/WhatsApp Video 2025-08-21 at 2.05.45 AM (1).mp4: 640x384 1 bottle, 1 bed, 1 laptop, 132.9ms\n",
            "video 1/1 (frame 57/196) /content/WhatsApp Video 2025-08-21 at 2.05.45 AM (1).mp4: 640x384 1 bed, 1 laptop, 137.1ms\n",
            "video 1/1 (frame 58/196) /content/WhatsApp Video 2025-08-21 at 2.05.45 AM (1).mp4: 640x384 1 bed, 1 laptop, 151.5ms\n",
            "video 1/1 (frame 59/196) /content/WhatsApp Video 2025-08-21 at 2.05.45 AM (1).mp4: 640x384 1 bottle, 1 laptop, 155.0ms\n",
            "video 1/1 (frame 60/196) /content/WhatsApp Video 2025-08-21 at 2.05.45 AM (1).mp4: 640x384 1 bottle, 1 bed, 1 laptop, 147.5ms\n",
            "video 1/1 (frame 61/196) /content/WhatsApp Video 2025-08-21 at 2.05.45 AM (1).mp4: 640x384 1 bottle, 1 bed, 1 laptop, 142.6ms\n",
            "video 1/1 (frame 62/196) /content/WhatsApp Video 2025-08-21 at 2.05.45 AM (1).mp4: 640x384 1 bottle, 1 bed, 1 laptop, 142.3ms\n",
            "video 1/1 (frame 63/196) /content/WhatsApp Video 2025-08-21 at 2.05.45 AM (1).mp4: 640x384 1 bottle, 1 bed, 1 laptop, 147.9ms\n",
            "video 1/1 (frame 64/196) /content/WhatsApp Video 2025-08-21 at 2.05.45 AM (1).mp4: 640x384 1 bed, 1 laptop, 147.5ms\n",
            "video 1/1 (frame 65/196) /content/WhatsApp Video 2025-08-21 at 2.05.45 AM (1).mp4: 640x384 1 bed, 1 laptop, 158.9ms\n",
            "video 1/1 (frame 66/196) /content/WhatsApp Video 2025-08-21 at 2.05.45 AM (1).mp4: 640x384 1 laptop, 150.0ms\n",
            "video 1/1 (frame 67/196) /content/WhatsApp Video 2025-08-21 at 2.05.45 AM (1).mp4: 640x384 1 bed, 1 laptop, 140.4ms\n",
            "video 1/1 (frame 68/196) /content/WhatsApp Video 2025-08-21 at 2.05.45 AM (1).mp4: 640x384 1 bed, 1 laptop, 147.4ms\n",
            "video 1/1 (frame 69/196) /content/WhatsApp Video 2025-08-21 at 2.05.45 AM (1).mp4: 640x384 1 laptop, 144.7ms\n",
            "video 1/1 (frame 70/196) /content/WhatsApp Video 2025-08-21 at 2.05.45 AM (1).mp4: 640x384 1 laptop, 142.2ms\n",
            "video 1/1 (frame 71/196) /content/WhatsApp Video 2025-08-21 at 2.05.45 AM (1).mp4: 640x384 1 laptop, 154.2ms\n",
            "video 1/1 (frame 72/196) /content/WhatsApp Video 2025-08-21 at 2.05.45 AM (1).mp4: 640x384 1 laptop, 136.0ms\n",
            "video 1/1 (frame 73/196) /content/WhatsApp Video 2025-08-21 at 2.05.45 AM (1).mp4: 640x384 1 laptop, 1 mouse, 132.8ms\n",
            "video 1/1 (frame 74/196) /content/WhatsApp Video 2025-08-21 at 2.05.45 AM (1).mp4: 640x384 1 laptop, 1 mouse, 132.4ms\n",
            "video 1/1 (frame 75/196) /content/WhatsApp Video 2025-08-21 at 2.05.45 AM (1).mp4: 640x384 1 laptop, 134.1ms\n",
            "video 1/1 (frame 76/196) /content/WhatsApp Video 2025-08-21 at 2.05.45 AM (1).mp4: 640x384 1 laptop, 132.7ms\n",
            "video 1/1 (frame 77/196) /content/WhatsApp Video 2025-08-21 at 2.05.45 AM (1).mp4: 640x384 1 laptop, 130.7ms\n",
            "video 1/1 (frame 78/196) /content/WhatsApp Video 2025-08-21 at 2.05.45 AM (1).mp4: 640x384 1 laptop, 146.1ms\n",
            "video 1/1 (frame 79/196) /content/WhatsApp Video 2025-08-21 at 2.05.45 AM (1).mp4: 640x384 1 laptop, 153.2ms\n",
            "video 1/1 (frame 80/196) /content/WhatsApp Video 2025-08-21 at 2.05.45 AM (1).mp4: 640x384 1 laptop, 1 keyboard, 148.1ms\n",
            "video 1/1 (frame 81/196) /content/WhatsApp Video 2025-08-21 at 2.05.45 AM (1).mp4: 640x384 1 laptop, 145.1ms\n",
            "video 1/1 (frame 82/196) /content/WhatsApp Video 2025-08-21 at 2.05.45 AM (1).mp4: 640x384 1 laptop, 143.7ms\n",
            "video 1/1 (frame 83/196) /content/WhatsApp Video 2025-08-21 at 2.05.45 AM (1).mp4: 640x384 1 laptop, 145.9ms\n",
            "video 1/1 (frame 84/196) /content/WhatsApp Video 2025-08-21 at 2.05.45 AM (1).mp4: 640x384 1 laptop, 161.4ms\n",
            "video 1/1 (frame 85/196) /content/WhatsApp Video 2025-08-21 at 2.05.45 AM (1).mp4: 640x384 1 laptop, 134.1ms\n",
            "video 1/1 (frame 86/196) /content/WhatsApp Video 2025-08-21 at 2.05.45 AM (1).mp4: 640x384 1 laptop, 138.1ms\n",
            "video 1/1 (frame 87/196) /content/WhatsApp Video 2025-08-21 at 2.05.45 AM (1).mp4: 640x384 1 laptop, 130.6ms\n",
            "video 1/1 (frame 88/196) /content/WhatsApp Video 2025-08-21 at 2.05.45 AM (1).mp4: 640x384 1 laptop, 131.2ms\n",
            "video 1/1 (frame 89/196) /content/WhatsApp Video 2025-08-21 at 2.05.45 AM (1).mp4: 640x384 1 laptop, 132.1ms\n",
            "video 1/1 (frame 90/196) /content/WhatsApp Video 2025-08-21 at 2.05.45 AM (1).mp4: 640x384 1 laptop, 130.6ms\n",
            "video 1/1 (frame 91/196) /content/WhatsApp Video 2025-08-21 at 2.05.45 AM (1).mp4: 640x384 1 laptop, 153.6ms\n",
            "video 1/1 (frame 92/196) /content/WhatsApp Video 2025-08-21 at 2.05.45 AM (1).mp4: 640x384 1 laptop, 149.0ms\n",
            "video 1/1 (frame 93/196) /content/WhatsApp Video 2025-08-21 at 2.05.45 AM (1).mp4: 640x384 1 laptop, 1 mouse, 143.8ms\n",
            "video 1/1 (frame 94/196) /content/WhatsApp Video 2025-08-21 at 2.05.45 AM (1).mp4: 640x384 1 laptop, 1 mouse, 154.8ms\n",
            "video 1/1 (frame 95/196) /content/WhatsApp Video 2025-08-21 at 2.05.45 AM (1).mp4: 640x384 1 laptop, 1 mouse, 150.7ms\n",
            "video 1/1 (frame 96/196) /content/WhatsApp Video 2025-08-21 at 2.05.45 AM (1).mp4: 640x384 1 laptop, 1 mouse, 148.3ms\n",
            "video 1/1 (frame 97/196) /content/WhatsApp Video 2025-08-21 at 2.05.45 AM (1).mp4: 640x384 1 laptop, 156.1ms\n",
            "video 1/1 (frame 98/196) /content/WhatsApp Video 2025-08-21 at 2.05.45 AM (1).mp4: 640x384 1 laptop, 131.0ms\n",
            "video 1/1 (frame 99/196) /content/WhatsApp Video 2025-08-21 at 2.05.45 AM (1).mp4: 640x384 1 laptop, 1 mouse, 130.5ms\n",
            "video 1/1 (frame 100/196) /content/WhatsApp Video 2025-08-21 at 2.05.45 AM (1).mp4: 640x384 1 laptop, 133.5ms\n",
            "video 1/1 (frame 101/196) /content/WhatsApp Video 2025-08-21 at 2.05.45 AM (1).mp4: 640x384 1 laptop, 1 mouse, 129.4ms\n",
            "video 1/1 (frame 102/196) /content/WhatsApp Video 2025-08-21 at 2.05.45 AM (1).mp4: 640x384 1 laptop, 1 mouse, 131.3ms\n",
            "video 1/1 (frame 103/196) /content/WhatsApp Video 2025-08-21 at 2.05.45 AM (1).mp4: 640x384 1 bed, 1 laptop, 1 mouse, 130.0ms\n",
            "video 1/1 (frame 104/196) /content/WhatsApp Video 2025-08-21 at 2.05.45 AM (1).mp4: 640x384 1 bed, 1 mouse, 146.0ms\n",
            "video 1/1 (frame 105/196) /content/WhatsApp Video 2025-08-21 at 2.05.45 AM (1).mp4: 640x384 1 laptop, 130.4ms\n",
            "video 1/1 (frame 106/196) /content/WhatsApp Video 2025-08-21 at 2.05.45 AM (1).mp4: 640x384 1 bed, 1 laptop, 1 refrigerator, 132.9ms\n",
            "video 1/1 (frame 107/196) /content/WhatsApp Video 2025-08-21 at 2.05.45 AM (1).mp4: 640x384 1 laptop, 1 refrigerator, 193.6ms\n",
            "video 1/1 (frame 108/196) /content/WhatsApp Video 2025-08-21 at 2.05.45 AM (1).mp4: 640x384 1 chair, 200.0ms\n",
            "video 1/1 (frame 109/196) /content/WhatsApp Video 2025-08-21 at 2.05.45 AM (1).mp4: 640x384 1 chair, 1 bed, 1 laptop, 1 refrigerator, 218.6ms\n",
            "video 1/1 (frame 110/196) /content/WhatsApp Video 2025-08-21 at 2.05.45 AM (1).mp4: 640x384 1 chair, 1 bed, 1 laptop, 221.9ms\n",
            "video 1/1 (frame 111/196) /content/WhatsApp Video 2025-08-21 at 2.05.45 AM (1).mp4: 640x384 1 chair, 1 laptop, 216.7ms\n",
            "video 1/1 (frame 112/196) /content/WhatsApp Video 2025-08-21 at 2.05.45 AM (1).mp4: 640x384 1 chair, 1 refrigerator, 216.8ms\n",
            "video 1/1 (frame 113/196) /content/WhatsApp Video 2025-08-21 at 2.05.45 AM (1).mp4: 640x384 1 chair, 1 teddy bear, 214.9ms\n",
            "video 1/1 (frame 114/196) /content/WhatsApp Video 2025-08-21 at 2.05.45 AM (1).mp4: 640x384 1 chair, 1 refrigerator, 223.7ms\n",
            "video 1/1 (frame 115/196) /content/WhatsApp Video 2025-08-21 at 2.05.45 AM (1).mp4: 640x384 1 chair, 1 refrigerator, 198.1ms\n",
            "video 1/1 (frame 116/196) /content/WhatsApp Video 2025-08-21 at 2.05.45 AM (1).mp4: 640x384 1 chair, 1 refrigerator, 205.5ms\n",
            "video 1/1 (frame 117/196) /content/WhatsApp Video 2025-08-21 at 2.05.45 AM (1).mp4: 640x384 1 chair, 1 teddy bear, 199.1ms\n",
            "video 1/1 (frame 118/196) /content/WhatsApp Video 2025-08-21 at 2.05.45 AM (1).mp4: 640x384 1 chair, 1 teddy bear, 129.9ms\n",
            "video 1/1 (frame 119/196) /content/WhatsApp Video 2025-08-21 at 2.05.45 AM (1).mp4: 640x384 1 chair, 1 refrigerator, 150.0ms\n",
            "video 1/1 (frame 120/196) /content/WhatsApp Video 2025-08-21 at 2.05.45 AM (1).mp4: 640x384 1 chair, 132.6ms\n",
            "video 1/1 (frame 121/196) /content/WhatsApp Video 2025-08-21 at 2.05.45 AM (1).mp4: 640x384 1 chair, 1 refrigerator, 136.8ms\n",
            "video 1/1 (frame 122/196) /content/WhatsApp Video 2025-08-21 at 2.05.45 AM (1).mp4: 640x384 1 chair, 1 refrigerator, 134.0ms\n",
            "video 1/1 (frame 123/196) /content/WhatsApp Video 2025-08-21 at 2.05.45 AM (1).mp4: 640x384 1 chair, 1 refrigerator, 128.6ms\n",
            "video 1/1 (frame 124/196) /content/WhatsApp Video 2025-08-21 at 2.05.45 AM (1).mp4: 640x384 1 chair, 1 refrigerator, 129.8ms\n",
            "video 1/1 (frame 125/196) /content/WhatsApp Video 2025-08-21 at 2.05.45 AM (1).mp4: 640x384 1 chair, 1 refrigerator, 130.2ms\n",
            "video 1/1 (frame 126/196) /content/WhatsApp Video 2025-08-21 at 2.05.45 AM (1).mp4: 640x384 1 chair, 1 refrigerator, 139.0ms\n",
            "video 1/1 (frame 127/196) /content/WhatsApp Video 2025-08-21 at 2.05.45 AM (1).mp4: 640x384 1 chair, 1 refrigerator, 128.4ms\n",
            "video 1/1 (frame 128/196) /content/WhatsApp Video 2025-08-21 at 2.05.45 AM (1).mp4: 640x384 1 chair, 1 refrigerator, 137.5ms\n",
            "video 1/1 (frame 129/196) /content/WhatsApp Video 2025-08-21 at 2.05.45 AM (1).mp4: 640x384 1 chair, 1 refrigerator, 126.7ms\n",
            "video 1/1 (frame 130/196) /content/WhatsApp Video 2025-08-21 at 2.05.45 AM (1).mp4: 640x384 1 chair, 134.4ms\n",
            "video 1/1 (frame 131/196) /content/WhatsApp Video 2025-08-21 at 2.05.45 AM (1).mp4: 640x384 1 chair, 135.6ms\n",
            "video 1/1 (frame 132/196) /content/WhatsApp Video 2025-08-21 at 2.05.45 AM (1).mp4: 640x384 1 chair, 152.9ms\n",
            "video 1/1 (frame 133/196) /content/WhatsApp Video 2025-08-21 at 2.05.45 AM (1).mp4: 640x384 1 chair, 141.5ms\n",
            "video 1/1 (frame 134/196) /content/WhatsApp Video 2025-08-21 at 2.05.45 AM (1).mp4: 640x384 1 chair, 144.4ms\n",
            "video 1/1 (frame 135/196) /content/WhatsApp Video 2025-08-21 at 2.05.45 AM (1).mp4: 640x384 1 chair, 143.8ms\n",
            "video 1/1 (frame 136/196) /content/WhatsApp Video 2025-08-21 at 2.05.45 AM (1).mp4: 640x384 1 chair, 148.1ms\n",
            "video 1/1 (frame 137/196) /content/WhatsApp Video 2025-08-21 at 2.05.45 AM (1).mp4: 640x384 (no detections), 148.5ms\n",
            "video 1/1 (frame 138/196) /content/WhatsApp Video 2025-08-21 at 2.05.45 AM (1).mp4: 640x384 (no detections), 133.3ms\n",
            "video 1/1 (frame 139/196) /content/WhatsApp Video 2025-08-21 at 2.05.45 AM (1).mp4: 640x384 1 chair, 142.3ms\n",
            "video 1/1 (frame 140/196) /content/WhatsApp Video 2025-08-21 at 2.05.45 AM (1).mp4: 640x384 (no detections), 131.1ms\n",
            "video 1/1 (frame 141/196) /content/WhatsApp Video 2025-08-21 at 2.05.45 AM (1).mp4: 640x384 (no detections), 131.4ms\n",
            "video 1/1 (frame 142/196) /content/WhatsApp Video 2025-08-21 at 2.05.45 AM (1).mp4: 640x384 1 chair, 134.5ms\n",
            "video 1/1 (frame 143/196) /content/WhatsApp Video 2025-08-21 at 2.05.45 AM (1).mp4: 640x384 (no detections), 131.2ms\n",
            "video 1/1 (frame 144/196) /content/WhatsApp Video 2025-08-21 at 2.05.45 AM (1).mp4: 640x384 (no detections), 131.8ms\n",
            "video 1/1 (frame 145/196) /content/WhatsApp Video 2025-08-21 at 2.05.45 AM (1).mp4: 640x384 (no detections), 135.7ms\n",
            "video 1/1 (frame 146/196) /content/WhatsApp Video 2025-08-21 at 2.05.45 AM (1).mp4: 640x384 (no detections), 143.3ms\n",
            "video 1/1 (frame 147/196) /content/WhatsApp Video 2025-08-21 at 2.05.45 AM (1).mp4: 640x384 (no detections), 128.8ms\n",
            "video 1/1 (frame 148/196) /content/WhatsApp Video 2025-08-21 at 2.05.45 AM (1).mp4: 640x384 (no detections), 128.4ms\n",
            "video 1/1 (frame 149/196) /content/WhatsApp Video 2025-08-21 at 2.05.45 AM (1).mp4: 640x384 (no detections), 127.6ms\n",
            "video 1/1 (frame 150/196) /content/WhatsApp Video 2025-08-21 at 2.05.45 AM (1).mp4: 640x384 (no detections), 130.3ms\n",
            "video 1/1 (frame 151/196) /content/WhatsApp Video 2025-08-21 at 2.05.45 AM (1).mp4: 640x384 (no detections), 133.9ms\n",
            "video 1/1 (frame 152/196) /content/WhatsApp Video 2025-08-21 at 2.05.45 AM (1).mp4: 640x384 (no detections), 131.5ms\n",
            "video 1/1 (frame 153/196) /content/WhatsApp Video 2025-08-21 at 2.05.45 AM (1).mp4: 640x384 1 chair, 146.2ms\n",
            "video 1/1 (frame 154/196) /content/WhatsApp Video 2025-08-21 at 2.05.45 AM (1).mp4: 640x384 1 chair, 133.7ms\n",
            "video 1/1 (frame 155/196) /content/WhatsApp Video 2025-08-21 at 2.05.45 AM (1).mp4: 640x384 (no detections), 131.1ms\n",
            "video 1/1 (frame 156/196) /content/WhatsApp Video 2025-08-21 at 2.05.45 AM (1).mp4: 640x384 (no detections), 134.9ms\n",
            "video 1/1 (frame 157/196) /content/WhatsApp Video 2025-08-21 at 2.05.45 AM (1).mp4: 640x384 (no detections), 132.8ms\n",
            "video 1/1 (frame 158/196) /content/WhatsApp Video 2025-08-21 at 2.05.45 AM (1).mp4: 640x384 1 tie, 131.2ms\n",
            "video 1/1 (frame 159/196) /content/WhatsApp Video 2025-08-21 at 2.05.45 AM (1).mp4: 640x384 (no detections), 131.4ms\n",
            "video 1/1 (frame 160/196) /content/WhatsApp Video 2025-08-21 at 2.05.45 AM (1).mp4: 640x384 1 book, 143.4ms\n",
            "video 1/1 (frame 161/196) /content/WhatsApp Video 2025-08-21 at 2.05.45 AM (1).mp4: 640x384 (no detections), 131.6ms\n",
            "video 1/1 (frame 162/196) /content/WhatsApp Video 2025-08-21 at 2.05.45 AM (1).mp4: 640x384 (no detections), 130.1ms\n",
            "video 1/1 (frame 163/196) /content/WhatsApp Video 2025-08-21 at 2.05.45 AM (1).mp4: 640x384 (no detections), 132.4ms\n",
            "video 1/1 (frame 164/196) /content/WhatsApp Video 2025-08-21 at 2.05.45 AM (1).mp4: 640x384 (no detections), 132.9ms\n",
            "video 1/1 (frame 165/196) /content/WhatsApp Video 2025-08-21 at 2.05.45 AM (1).mp4: 640x384 (no detections), 131.6ms\n",
            "video 1/1 (frame 166/196) /content/WhatsApp Video 2025-08-21 at 2.05.45 AM (1).mp4: 640x384 (no detections), 135.3ms\n",
            "video 1/1 (frame 167/196) /content/WhatsApp Video 2025-08-21 at 2.05.45 AM (1).mp4: 640x384 (no detections), 135.4ms\n",
            "video 1/1 (frame 168/196) /content/WhatsApp Video 2025-08-21 at 2.05.45 AM (1).mp4: 640x384 (no detections), 131.2ms\n",
            "video 1/1 (frame 169/196) /content/WhatsApp Video 2025-08-21 at 2.05.45 AM (1).mp4: 640x384 (no detections), 129.7ms\n",
            "video 1/1 (frame 170/196) /content/WhatsApp Video 2025-08-21 at 2.05.45 AM (1).mp4: 640x384 (no detections), 132.0ms\n",
            "video 1/1 (frame 171/196) /content/WhatsApp Video 2025-08-21 at 2.05.45 AM (1).mp4: 640x384 (no detections), 131.6ms\n",
            "video 1/1 (frame 172/196) /content/WhatsApp Video 2025-08-21 at 2.05.45 AM (1).mp4: 640x384 (no detections), 132.2ms\n",
            "video 1/1 (frame 173/196) /content/WhatsApp Video 2025-08-21 at 2.05.45 AM (1).mp4: 640x384 (no detections), 135.5ms\n",
            "video 1/1 (frame 174/196) /content/WhatsApp Video 2025-08-21 at 2.05.45 AM (1).mp4: 640x384 (no detections), 139.7ms\n",
            "video 1/1 (frame 175/196) /content/WhatsApp Video 2025-08-21 at 2.05.45 AM (1).mp4: 640x384 (no detections), 134.4ms\n",
            "video 1/1 (frame 176/196) /content/WhatsApp Video 2025-08-21 at 2.05.45 AM (1).mp4: 640x384 (no detections), 132.1ms\n",
            "video 1/1 (frame 177/196) /content/WhatsApp Video 2025-08-21 at 2.05.45 AM (1).mp4: 640x384 (no detections), 129.0ms\n",
            "video 1/1 (frame 178/196) /content/WhatsApp Video 2025-08-21 at 2.05.45 AM (1).mp4: 640x384 1 cup, 131.9ms\n",
            "video 1/1 (frame 179/196) /content/WhatsApp Video 2025-08-21 at 2.05.45 AM (1).mp4: 640x384 (no detections), 168.4ms\n",
            "video 1/1 (frame 180/196) /content/WhatsApp Video 2025-08-21 at 2.05.45 AM (1).mp4: 640x384 (no detections), 165.7ms\n",
            "video 1/1 (frame 181/196) /content/WhatsApp Video 2025-08-21 at 2.05.45 AM (1).mp4: 640x384 (no detections), 147.8ms\n",
            "video 1/1 (frame 182/196) /content/WhatsApp Video 2025-08-21 at 2.05.45 AM (1).mp4: 640x384 (no detections), 146.8ms\n",
            "video 1/1 (frame 183/196) /content/WhatsApp Video 2025-08-21 at 2.05.45 AM (1).mp4: 640x384 (no detections), 225.6ms\n",
            "video 1/1 (frame 184/196) /content/WhatsApp Video 2025-08-21 at 2.05.45 AM (1).mp4: 640x384 (no detections), 225.6ms\n",
            "video 1/1 (frame 185/196) /content/WhatsApp Video 2025-08-21 at 2.05.45 AM (1).mp4: 640x384 (no detections), 239.1ms\n",
            "video 1/1 (frame 186/196) /content/WhatsApp Video 2025-08-21 at 2.05.45 AM (1).mp4: 640x384 (no detections), 221.7ms\n",
            "video 1/1 (frame 187/196) /content/WhatsApp Video 2025-08-21 at 2.05.45 AM (1).mp4: 640x384 (no detections), 225.3ms\n",
            "video 1/1 (frame 188/196) /content/WhatsApp Video 2025-08-21 at 2.05.45 AM (1).mp4: 640x384 (no detections), 218.8ms\n",
            "video 1/1 (frame 189/196) /content/WhatsApp Video 2025-08-21 at 2.05.45 AM (1).mp4: 640x384 (no detections), 224.8ms\n",
            "video 1/1 (frame 190/196) /content/WhatsApp Video 2025-08-21 at 2.05.45 AM (1).mp4: 640x384 (no detections), 252.8ms\n",
            "video 1/1 (frame 191/196) /content/WhatsApp Video 2025-08-21 at 2.05.45 AM (1).mp4: 640x384 (no detections), 236.3ms\n",
            "video 1/1 (frame 192/196) /content/WhatsApp Video 2025-08-21 at 2.05.45 AM (1).mp4: 640x384 (no detections), 223.8ms\n",
            "video 1/1 (frame 193/196) /content/WhatsApp Video 2025-08-21 at 2.05.45 AM (1).mp4: 640x384 (no detections), 191.8ms\n",
            "video 1/1 (frame 194/196) /content/WhatsApp Video 2025-08-21 at 2.05.45 AM (1).mp4: 640x384 (no detections), 146.6ms\n",
            "video 1/1 (frame 195/196) /content/WhatsApp Video 2025-08-21 at 2.05.45 AM (1).mp4: 640x384 (no detections), 136.2ms\n",
            "video 1/1 (frame 196/196) /content/WhatsApp Video 2025-08-21 at 2.05.45 AM (1).mp4: 640x384 (no detections), 133.8ms\n",
            "Speed: 3.4ms preprocess, 151.4ms inference, 1.3ms postprocess per image at shape (1, 3, 640, 384)\n",
            "Results saved to \u001b[1mtracked\u001b[0m\n"
          ]
        }
      ]
    },
    {
      "cell_type": "code",
      "source": [],
      "metadata": {
        "id": "2xPY7iN_Pn_G"
      },
      "execution_count": null,
      "outputs": []
    },
    {
      "cell_type": "markdown",
      "source": [
        "#***Save Processed Video***"
      ],
      "metadata": {
        "id": "5Q-dy4n4P5je"
      }
    },
    {
      "cell_type": "code",
      "source": [
        "output_files = glob.glob(\"tracked/*.mp4\") + glob.glob(\"tracked/*.avi\")\n",
        "if output_files:\n",
        "    latest_output = output_files[0]\n",
        "    shutil.copy(latest_output, \"output.mp4\")\n",
        "    print(\"Tracking complete. Saved as output.mp4\")\n",
        "\n",
        "from google.colab import files\n",
        "files.download(\"output.mp4\")\n"
      ],
      "metadata": {
        "colab": {
          "base_uri": "https://localhost:8080/",
          "height": 34
        },
        "id": "8AsH6noLP96J",
        "outputId": "1bfabded-a294-482a-da0b-b17b59dcdddf"
      },
      "execution_count": 16,
      "outputs": [
        {
          "output_type": "stream",
          "name": "stdout",
          "text": [
            "Tracking complete. Saved as output.mp4\n"
          ]
        },
        {
          "output_type": "display_data",
          "data": {
            "text/plain": [
              "<IPython.core.display.Javascript object>"
            ],
            "application/javascript": [
              "\n",
              "    async function download(id, filename, size) {\n",
              "      if (!google.colab.kernel.accessAllowed) {\n",
              "        return;\n",
              "      }\n",
              "      const div = document.createElement('div');\n",
              "      const label = document.createElement('label');\n",
              "      label.textContent = `Downloading \"${filename}\": `;\n",
              "      div.appendChild(label);\n",
              "      const progress = document.createElement('progress');\n",
              "      progress.max = size;\n",
              "      div.appendChild(progress);\n",
              "      document.body.appendChild(div);\n",
              "\n",
              "      const buffers = [];\n",
              "      let downloaded = 0;\n",
              "\n",
              "      const channel = await google.colab.kernel.comms.open(id);\n",
              "      // Send a message to notify the kernel that we're ready.\n",
              "      channel.send({})\n",
              "\n",
              "      for await (const message of channel.messages) {\n",
              "        // Send a message to notify the kernel that we're ready.\n",
              "        channel.send({})\n",
              "        if (message.buffers) {\n",
              "          for (const buffer of message.buffers) {\n",
              "            buffers.push(buffer);\n",
              "            downloaded += buffer.byteLength;\n",
              "            progress.value = downloaded;\n",
              "          }\n",
              "        }\n",
              "      }\n",
              "      const blob = new Blob(buffers, {type: 'application/binary'});\n",
              "      const a = document.createElement('a');\n",
              "      a.href = window.URL.createObjectURL(blob);\n",
              "      a.download = filename;\n",
              "      div.appendChild(a);\n",
              "      a.click();\n",
              "      div.remove();\n",
              "    }\n",
              "  "
            ]
          },
          "metadata": {}
        },
        {
          "output_type": "display_data",
          "data": {
            "text/plain": [
              "<IPython.core.display.Javascript object>"
            ],
            "application/javascript": [
              "download(\"download_e7ae7aee-af84-47f3-beb6-b627bc4b8b78\", \"output.mp4\", 8090838)"
            ]
          },
          "metadata": {}
        }
      ]
    },
    {
      "cell_type": "code",
      "source": [],
      "metadata": {
        "id": "Unqwkc78P_bG"
      },
      "execution_count": null,
      "outputs": []
    },
    {
      "cell_type": "markdown",
      "source": [
        "#***Analyze Detections Counting Objects***"
      ],
      "metadata": {
        "id": "uZ8RjmXNQD3H"
      }
    },
    {
      "cell_type": "code",
      "source": [
        "cap = cv2.VideoCapture(video_name)\n",
        "object_counter = Counter()\n",
        "\n",
        "while True:\n",
        "    ret, frame = cap.read()\n",
        "    if not ret:\n",
        "        break\n",
        "    results = model(frame, verbose=False)\n",
        "    for box in results[0].boxes:\n",
        "        if box.conf.item() > 0.6:\n",
        "            class_id = int(box.cls.item())\n",
        "            class_name = model.names[class_id]\n",
        "            object_counter[class_name] += 1\n",
        "\n",
        "cap.release()\n"
      ],
      "metadata": {
        "id": "sgk9mvv-QF5i"
      },
      "execution_count": 17,
      "outputs": []
    },
    {
      "cell_type": "code",
      "source": [],
      "metadata": {
        "id": "kUzpjbwuQPPo"
      },
      "execution_count": null,
      "outputs": []
    },
    {
      "cell_type": "markdown",
      "source": [
        "#***Generate Summary Table & Save CSV***"
      ],
      "metadata": {
        "id": "s3Z5LrnRQR93"
      }
    },
    {
      "cell_type": "code",
      "source": [
        "df = pd.DataFrame(object_counter.items(), columns=[\"Object\", \"Count\"]).sort_values(by=\"Count\", ascending=False)\n",
        "print(df.to_string(index=False))\n",
        "\n",
        "df.to_csv(\"detections.csv\", index=False)\n",
        "files.download(\"detections.csv\")\n"
      ],
      "metadata": {
        "colab": {
          "base_uri": "https://localhost:8080/",
          "height": 243
        },
        "id": "TKKmfRKPQW80",
        "outputId": "ff749196-cbbc-490f-c510-a62ec2ef0f36"
      },
      "execution_count": 18,
      "outputs": [
        {
          "output_type": "stream",
          "name": "stdout",
          "text": [
            "      Object  Count\n",
            "      laptop     61\n",
            "         bed     47\n",
            "       chair     29\n",
            "refrigerator     14\n",
            "      bottle     13\n",
            "       mouse      7\n",
            "  cell phone      3\n",
            "      remote      3\n",
            "  teddy bear      3\n",
            "    keyboard      2\n",
            "         tie      1\n",
            "        book      1\n"
          ]
        },
        {
          "output_type": "display_data",
          "data": {
            "text/plain": [
              "<IPython.core.display.Javascript object>"
            ],
            "application/javascript": [
              "\n",
              "    async function download(id, filename, size) {\n",
              "      if (!google.colab.kernel.accessAllowed) {\n",
              "        return;\n",
              "      }\n",
              "      const div = document.createElement('div');\n",
              "      const label = document.createElement('label');\n",
              "      label.textContent = `Downloading \"${filename}\": `;\n",
              "      div.appendChild(label);\n",
              "      const progress = document.createElement('progress');\n",
              "      progress.max = size;\n",
              "      div.appendChild(progress);\n",
              "      document.body.appendChild(div);\n",
              "\n",
              "      const buffers = [];\n",
              "      let downloaded = 0;\n",
              "\n",
              "      const channel = await google.colab.kernel.comms.open(id);\n",
              "      // Send a message to notify the kernel that we're ready.\n",
              "      channel.send({})\n",
              "\n",
              "      for await (const message of channel.messages) {\n",
              "        // Send a message to notify the kernel that we're ready.\n",
              "        channel.send({})\n",
              "        if (message.buffers) {\n",
              "          for (const buffer of message.buffers) {\n",
              "            buffers.push(buffer);\n",
              "            downloaded += buffer.byteLength;\n",
              "            progress.value = downloaded;\n",
              "          }\n",
              "        }\n",
              "      }\n",
              "      const blob = new Blob(buffers, {type: 'application/binary'});\n",
              "      const a = document.createElement('a');\n",
              "      a.href = window.URL.createObjectURL(blob);\n",
              "      a.download = filename;\n",
              "      div.appendChild(a);\n",
              "      a.click();\n",
              "      div.remove();\n",
              "    }\n",
              "  "
            ]
          },
          "metadata": {}
        },
        {
          "output_type": "display_data",
          "data": {
            "text/plain": [
              "<IPython.core.display.Javascript object>"
            ],
            "application/javascript": [
              "download(\"download_5767ede8-2a9d-41a4-b377-45f70954a835\", \"detections.csv\", 132)"
            ]
          },
          "metadata": {}
        }
      ]
    },
    {
      "cell_type": "code",
      "source": [],
      "metadata": {
        "id": "Yp_Pf2iYQZHZ"
      },
      "execution_count": null,
      "outputs": []
    }
  ]
}